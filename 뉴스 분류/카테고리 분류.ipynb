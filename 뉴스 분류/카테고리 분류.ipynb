{
 "cells": [
  {
   "cell_type": "code",
   "execution_count": 48,
   "id": "92f60e5b",
   "metadata": {},
   "outputs": [],
   "source": [
    "import numpy as np\n",
    "import pandas as pd\n",
    "\n",
    "import nltk\n",
    "from konlpy.tag import Okt\n",
    "\n",
    "from collections import Counter\n",
    "\n",
    "import matplotlib\n",
    "import matplotlib.pyplot as plt\n",
    "from matplotlib import font_manager, rc"
   ]
  },
  {
   "cell_type": "code",
   "execution_count": 2,
   "id": "86b1f904",
   "metadata": {},
   "outputs": [],
   "source": [
    "# 라벨 인코딩\n",
    "from sklearn.preprocessing import LabelEncoder"
   ]
  },
  {
   "cell_type": "code",
   "execution_count": 3,
   "id": "e5a30fed",
   "metadata": {},
   "outputs": [],
   "source": [
    "label = LabelEncoder()\n",
    "tokenizer = Okt()"
   ]
  },
  {
   "cell_type": "code",
   "execution_count": 4,
   "id": "7bdd53b3",
   "metadata": {},
   "outputs": [],
   "source": [
    "politics_article = pd.read_csv('politics_article_result.csv')\n",
    "culture_article = pd.read_csv('culture_article_result.csv')\n",
    "economy_article = pd.read_csv('economy_article_result.csv')\n",
    "science_article = pd.read_csv('science_article_result.csv')\n",
    "society_article = pd.read_csv('society_article_result.csv')\n",
    "world_article = pd.read_csv('world_article_result.csv')"
   ]
  },
  {
   "cell_type": "code",
   "execution_count": 6,
   "id": "e95ba5ce",
   "metadata": {},
   "outputs": [],
   "source": [
    "news_data = pd.concat([politics_article,culture_article,economy_article,science_article,society_article,world_article])\n",
    "\n",
    "df = news_data\n",
    "\n",
    "label.fit(df['Category'])\n",
    "label.transform(df['Category'])\n",
    "\n",
    "df['Category'] = label.transform(df['Category'])"
   ]
  },
  {
   "cell_type": "code",
   "execution_count": 7,
   "id": "7483f424",
   "metadata": {},
   "outputs": [],
   "source": [
    "\n",
    "\n",
    "del_list = ['하다','있다','되다','이다','돼다','않다','그렇다','아니다','이렇다','어떻다','밝히다','열리다','없다','대해']\n",
    "new_df = pd.DataFrame(columns=['Word', 'Category'])\n",
    "\n",
    "# 주어진 DataFrame을 순회하면서 처리\n",
    "for index, text in df.iterrows():\n",
    "    word_title_list = []\n",
    "    new_text = ''.join(text['Title']) + ''.join(text['Article'])\n",
    "    text_tag = tokenizer.pos(new_text, norm=True, stem=True)\n",
    "\n",
    "    # text_tag에서 Word와 Category를 추출하여 new_df에 추가\n",
    "    for word, category in text_tag:\n",
    "      if not category in [\"Josa\",\"Eomi\",\"Punctuation\",\"Foreign\"]:\n",
    "        if(len(word) != 1) & (word not in del_list):\n",
    "          word_title_list.append(word)\n",
    "    new_df = new_df.append({'Word': word_title_list, 'Category': text.Category}, ignore_index=True)"
   ]
  },
  {
   "cell_type": "code",
   "execution_count": 8,
   "id": "d11dee5c",
   "metadata": {},
   "outputs": [
    {
     "data": {
      "text/html": [
       "<div>\n",
       "<style scoped>\n",
       "    .dataframe tbody tr th:only-of-type {\n",
       "        vertical-align: middle;\n",
       "    }\n",
       "\n",
       "    .dataframe tbody tr th {\n",
       "        vertical-align: top;\n",
       "    }\n",
       "\n",
       "    .dataframe thead th {\n",
       "        text-align: right;\n",
       "    }\n",
       "</style>\n",
       "<table border=\"1\" class=\"dataframe\">\n",
       "  <thead>\n",
       "    <tr style=\"text-align: right;\">\n",
       "      <th></th>\n",
       "      <th>Word</th>\n",
       "      <th>Category</th>\n",
       "    </tr>\n",
       "  </thead>\n",
       "  <tbody>\n",
       "    <tr>\n",
       "      <th>0</th>\n",
       "      <td>[이수정, 배현진, 여자, 피해자, 수도, 우발, 사건, 국민, 배현진, 의원, 서...</td>\n",
       "      <td>5</td>\n",
       "    </tr>\n",
       "    <tr>\n",
       "      <th>1</th>\n",
       "      <td>[외교부, 부부, 방북, 수교, 75, 주년, 교류, 확대, 논의, 종합, 서울, ...</td>\n",
       "      <td>5</td>\n",
       "    </tr>\n",
       "    <tr>\n",
       "      <th>2</th>\n",
       "      <td>[배현진, 테러, 여야, 증오, 정치, 멈추다, 정쟁, 진행형, 여야, 자성, 목소...</td>\n",
       "      <td>5</td>\n",
       "    </tr>\n",
       "    <tr>\n",
       "      <th>3</th>\n",
       "      <td>[중대, 재해, 처벌, 유예, 불발, 야당, 무책임하다, 행위, 유감, 중소기업, ...</td>\n",
       "      <td>5</td>\n",
       "    </tr>\n",
       "    <tr>\n",
       "      <th>4</th>\n",
       "      <td>[정의당, 비례대표, 이은주, 사직, 국회, 본회의, 가결, 정의당, 비례대표, 이...</td>\n",
       "      <td>5</td>\n",
       "    </tr>\n",
       "    <tr>\n",
       "      <th>...</th>\n",
       "      <td>...</td>\n",
       "      <td>...</td>\n",
       "    </tr>\n",
       "    <tr>\n",
       "      <th>305</th>\n",
       "      <td>[밉다, 국방부, 북한, 무기, 지원, 크다, 장기, 우려, 미국, 국방부, 북한,...</td>\n",
       "      <td>4</td>\n",
       "    </tr>\n",
       "    <tr>\n",
       "      <th>306</th>\n",
       "      <td>[미국, 이라크, 시리아, 미군, 철수, 준비, 미국, 이라크, 시리아, 주둔, 중...</td>\n",
       "      <td>4</td>\n",
       "    </tr>\n",
       "    <tr>\n",
       "      <th>307</th>\n",
       "      <td>[2200달러, 디올, 여당, 흔들다, 외신, 집중, 조명, 연합뉴스, 윤석열, 대...</td>\n",
       "      <td>4</td>\n",
       "    </tr>\n",
       "    <tr>\n",
       "      <th>308</th>\n",
       "      <td>[세계, 최대, 광산, 업체, 호주, BHP, 홍해, 우회, 항로, 채택, 예멘, ...</td>\n",
       "      <td>4</td>\n",
       "    </tr>\n",
       "    <tr>\n",
       "      <th>309</th>\n",
       "      <td>[3분, 끝나다, 트럼프, 증언, 법정, 지칭, 미국, 도널드, 트럼프, 대통령, ...</td>\n",
       "      <td>4</td>\n",
       "    </tr>\n",
       "  </tbody>\n",
       "</table>\n",
       "<p>310 rows × 2 columns</p>\n",
       "</div>"
      ],
      "text/plain": [
       "                                                  Word Category\n",
       "0    [이수정, 배현진, 여자, 피해자, 수도, 우발, 사건, 국민, 배현진, 의원, 서...        5\n",
       "1    [외교부, 부부, 방북, 수교, 75, 주년, 교류, 확대, 논의, 종합, 서울, ...        5\n",
       "2    [배현진, 테러, 여야, 증오, 정치, 멈추다, 정쟁, 진행형, 여야, 자성, 목소...        5\n",
       "3    [중대, 재해, 처벌, 유예, 불발, 야당, 무책임하다, 행위, 유감, 중소기업, ...        5\n",
       "4    [정의당, 비례대표, 이은주, 사직, 국회, 본회의, 가결, 정의당, 비례대표, 이...        5\n",
       "..                                                 ...      ...\n",
       "305  [밉다, 국방부, 북한, 무기, 지원, 크다, 장기, 우려, 미국, 국방부, 북한,...        4\n",
       "306  [미국, 이라크, 시리아, 미군, 철수, 준비, 미국, 이라크, 시리아, 주둔, 중...        4\n",
       "307  [2200달러, 디올, 여당, 흔들다, 외신, 집중, 조명, 연합뉴스, 윤석열, 대...        4\n",
       "308  [세계, 최대, 광산, 업체, 호주, BHP, 홍해, 우회, 항로, 채택, 예멘, ...        4\n",
       "309  [3분, 끝나다, 트럼프, 증언, 법정, 지칭, 미국, 도널드, 트럼프, 대통령, ...        4\n",
       "\n",
       "[310 rows x 2 columns]"
      ]
     },
     "execution_count": 8,
     "metadata": {},
     "output_type": "execute_result"
    }
   ],
   "source": [
    "# 원하는 형태긴 하지만 이중for문이라 시간이 좀 걸린다.. 데이터 양이 더 많아진다면 시간이 더 걸릴테니 다른 방법도 생각해 보자\n",
    "new_df"
   ]
  },
  {
   "cell_type": "code",
   "execution_count": 9,
   "id": "31838e8c",
   "metadata": {},
   "outputs": [],
   "source": [
    "# 데이터 저장\n",
    "data_result = new_df\n",
    "data_result.to_csv('data_result.csv', index=False, encoding='utf-8')"
   ]
  },
  {
   "cell_type": "code",
   "execution_count": 10,
   "id": "701fb521",
   "metadata": {},
   "outputs": [],
   "source": [
    "original_to_new_labels = {0: 'IT/과학', 1: '경제', 2: '사회', 3: '사회/문화', 4: '세계', 5: '정치'}"
   ]
  },
  {
   "cell_type": "code",
   "execution_count": 11,
   "id": "ddf2e081",
   "metadata": {},
   "outputs": [],
   "source": [
    "data_result = pd.read_csv('data_result.csv')"
   ]
  },
  {
   "cell_type": "code",
   "execution_count": 12,
   "id": "8d650b8a",
   "metadata": {},
   "outputs": [
    {
     "name": "stdout",
     "output_type": "stream",
     "text": [
      "데이터 최대 길이 : 13036\n",
      "데이터 평균 길이 : 1575.8870967741937\n"
     ]
    },
    {
     "data": {
      "image/png": "[encoded data removed]",
      "text/plain": [
       "<Figure size 432x288 with 1 Axes>"
      ]
     },
     "metadata": {
      "needs_background": "light"
     },
     "output_type": "display_data"
    }
   ],
   "source": [
    "# 전체 텍스트 데이터 길이 분포 확인\n",
    "print('데이터 최대 길이 :',max(len(a) for a in data_result['Word']))\n",
    "print('데이터 평균 길이 :',sum(map(len, data_result['Word']))/len(data_result['Word']))\n",
    "\n",
    "plt.hist([len(a) for a in data_result['Word']], bins=50)\n",
    "plt.xlabel('length')\n",
    "plt.ylabel('number')\n",
    "plt.show()"
   ]
  },
  {
   "cell_type": "code",
   "execution_count": 13,
   "id": "aa4abf3a",
   "metadata": {},
   "outputs": [],
   "source": [
    "# 모델 사용"
   ]
  },
  {
   "cell_type": "code",
   "execution_count": 20,
   "id": "ad92cb11",
   "metadata": {},
   "outputs": [],
   "source": [
    "from sklearn.feature_extraction.text import TfidfVectorizer\n",
    "from sklearn.svm import SVC\n",
    "import nltk\n",
    "from nltk.corpus import stopwords\n",
    "from nltk.tokenize import word_tokenize\n",
    "from sklearn.model_selection import train_test_split\n",
    "from sklearn.metrics import accuracy_score"
   ]
  },
  {
   "cell_type": "code",
   "execution_count": 15,
   "id": "3a907c3b",
   "metadata": {},
   "outputs": [],
   "source": [
    "vectorizer = TfidfVectorizer()"
   ]
  },
  {
   "cell_type": "code",
   "execution_count": 17,
   "id": "431b5b16",
   "metadata": {},
   "outputs": [],
   "source": [
    "# 데이터 전처리\n",
    "X = data_result['Word']\n",
    "y = data_result['Category']\n",
    "\n",
    "# 데이터 분할\n",
    "X_train, X_test, y_train, y_test = train_test_split(X, y, test_size=0.2, random_state=42)\n",
    "\n",
    "# TF-IDF를 사용하여 텍스트 데이터를 벡터화\n",
    "vectorizer = TfidfVectorizer()\n",
    "X_tfidf = vectorizer.fit_transform(X)\n",
    "\n",
    "X_train_tfidf = vectorizer.fit_transform(X_train)\n",
    "X_test_tfidf = vectorizer.transform(X_test)"
   ]
  },
  {
   "cell_type": "code",
   "execution_count": 22,
   "id": "b01137db",
   "metadata": {},
   "outputs": [
    {
     "name": "stdout",
     "output_type": "stream",
     "text": [
      "정확도: 0.9193548387096774\n"
     ]
    }
   ],
   "source": [
    "# 모델 훈련 SVM\n",
    "svm_model = SVC(kernel='linear')\n",
    "svm_model.fit(X_train_tfidf, y_train)\n",
    "\n",
    "# 모델 평가\n",
    "svm_y_pred = svm_model.predict(X_test_tfidf)\n",
    "accuracy = accuracy_score(y_test, svm_y_pred)\n",
    "print(f\"정확도: {accuracy}\")"
   ]
  },
  {
   "cell_type": "code",
   "execution_count": 25,
   "id": "7999fae7",
   "metadata": {},
   "outputs": [
    {
     "name": "stdout",
     "output_type": "stream",
     "text": [
      " 정치\n"
     ]
    }
   ],
   "source": [
    "# 특정 단어 입력 예측\n",
    "def predict_category(input_word):\n",
    "    tokens = tokenizer.pos(input_word, norm=True, stem=True)\n",
    "    input_sentence = ' '.join([word for word, _ in tokens])\n",
    "    input_tfidf = vectorizer.transform([input_sentence])\n",
    "    prediction = svm_model.predict(input_tfidf)\n",
    "    return prediction[0]\n",
    "\n",
    "# 예측 테스트\n",
    "test_word = '북한 잠수함 밀집 신포 해상서 순항미사일 포착…나흘만에'\n",
    "predicted_category = predict_category(test_word)\n",
    "\n",
    "# 새로운 레이블로 변환\n",
    "new_label = original_to_new_labels[predicted_category]\n",
    "\n",
    "print(f\" {new_label}\")"
   ]
  },
  {
   "cell_type": "code",
   "execution_count": 26,
   "id": "49edc515",
   "metadata": {},
   "outputs": [],
   "source": [
    "# 로지스틱 회귀 모델 훈련\n",
    "from sklearn.linear_model import LogisticRegression"
   ]
  },
  {
   "cell_type": "code",
   "execution_count": 27,
   "id": "fccc201b",
   "metadata": {},
   "outputs": [
    {
     "name": "stdout",
     "output_type": "stream",
     "text": [
      "정확도: 0.9354838709677419\n"
     ]
    }
   ],
   "source": [
    "# 모델 훈련\n",
    "logreg_model = LogisticRegression()\n",
    "logreg_model.fit(X_train_tfidf, y_train)\n",
    "\n",
    "\n",
    "# 모델 평가\n",
    "logreg_y_pred_logreg = logreg_model.predict(X_test_tfidf)\n",
    "accuracy_logreg = accuracy_score(y_test, logreg_y_pred_logreg)\n",
    "print(f\"정확도: {accuracy_logreg}\")"
   ]
  },
  {
   "cell_type": "code",
   "execution_count": 28,
   "id": "87d13c5b",
   "metadata": {},
   "outputs": [],
   "source": [
    "# 결정트리\n",
    "from sklearn.tree import DecisionTreeClassifier"
   ]
  },
  {
   "cell_type": "code",
   "execution_count": 30,
   "id": "83d89d5e",
   "metadata": {},
   "outputs": [
    {
     "name": "stdout",
     "output_type": "stream",
     "text": [
      "정확도: 0.6774193548387096\n"
     ]
    }
   ],
   "source": [
    "# 모델 학습\n",
    "tree_model = DecisionTreeClassifier()\n",
    "tree_model.fit(X_train_tfidf, y_train)\n",
    "\n",
    "# 모델 평가\n",
    "tree_y_pred_dt = tree_model.predict(X_test_tfidf)\n",
    "accuracy_dt = accuracy_score(y_test, tree_y_pred_dt)\n",
    "print(f\"정확도: {accuracy_dt}\")"
   ]
  },
  {
   "cell_type": "code",
   "execution_count": 31,
   "id": "115b7399",
   "metadata": {},
   "outputs": [],
   "source": [
    "# K-최소근접\n",
    "from sklearn.neighbors import KNeighborsClassifier"
   ]
  },
  {
   "cell_type": "code",
   "execution_count": 33,
   "id": "0529295b",
   "metadata": {},
   "outputs": [
    {
     "name": "stdout",
     "output_type": "stream",
     "text": [
      "정확도: 0.9193548387096774\n"
     ]
    }
   ],
   "source": [
    "# KNN 모델 학습\n",
    "knn_model = KNeighborsClassifier(n_neighbors=3)  # K값은 3이 가장 정확도가 높음\n",
    "knn_model.fit(X_train_tfidf, y_train)\n",
    "\n",
    "# 모델 평가\n",
    "knn_model_y_pred_dt = knn_model.predict(X_test_tfidf)\n",
    "accuracy_dt = accuracy_score(y_test, knn_model_y_pred_dt)\n",
    "print(f\"정확도: {accuracy_dt}\")"
   ]
  },
  {
   "cell_type": "code",
   "execution_count": null,
   "id": "c7389876",
   "metadata": {},
   "outputs": [],
   "source": []
  }
 ],
 "metadata": {
  "kernelspec": {
   "display_name": "Python 3",
   "language": "python",
   "name": "python3"
  },
  "language_info": {
   "codemirror_mode": {
    "name": "ipython",
    "version": 3
   },
   "file_extension": ".py",
   "mimetype": "text/x-python",
   "name": "python",
   "nbconvert_exporter": "python",
   "pygments_lexer": "ipython3",
   "version": "3.8.8"
  }
 },
 "nbformat": 4,
 "nbformat_minor": 5
}
