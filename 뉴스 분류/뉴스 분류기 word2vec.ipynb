{
 "cells": [
  {
   "cell_type": "code",
   "execution_count": 2,
   "metadata": {
    "executionInfo": {
     "elapsed": 380,
     "status": "ok",
     "timestamp": 1706494455968,
     "user": {
      "displayName": "돌돌",
      "userId": "10669200165607963856"
     },
     "user_tz": -540
    },
    "id": "ze2Gf2uA_niq"
   },
   "outputs": [],
   "source": [
    "# 구글 코랩으로 돌렸던거라 오류가 생길 수 있습니다..ㅠ"
   ]
  },
  {
   "cell_type": "code",
   "execution_count": 6,
   "metadata": {
    "executionInfo": {
     "elapsed": 417,
     "status": "ok",
     "timestamp": 1706494549764,
     "user": {
      "displayName": "돌돌",
      "userId": "10669200165607963856"
     },
     "user_tz": -540
    },
    "id": "yF8cqH5l_1Q_"
   },
   "outputs": [],
   "source": [
    "import numpy as np\n",
    "import pandas as pd"
   ]
  },
  {
   "cell_type": "code",
   "execution_count": 9,
   "metadata": {
    "executionInfo": {
     "elapsed": 5430,
     "status": "ok",
     "timestamp": 1706495456955,
     "user": {
      "displayName": "돌돌",
      "userId": "10669200165607963856"
     },
     "user_tz": -540
    },
    "id": "TPcYdw2NDhep"
   },
   "outputs": [],
   "source": [
    "from gensim.models import Word2Vec\n",
    "from sklearn.model_selection import train_test_split\n",
    "from sklearn.svm import SVC\n",
    "from sklearn.metrics import accuracy_score\n",
    "from sklearn.preprocessing import LabelEncoder"
   ]
  },
  {
   "cell_type": "code",
   "execution_count": 7,
   "metadata": {
    "executionInfo": {
     "elapsed": 343,
     "status": "ok",
     "timestamp": 1706495362943,
     "user": {
      "displayName": "돌돌",
      "userId": "10669200165607963856"
     },
     "user_tz": -540
    },
    "id": "tOXo84A8_xm7"
   },
   "outputs": [],
   "source": [
    "data_result = pd.read_csv('data_result.csv')"
   ]
  },
  {
   "cell_type": "code",
   "execution_count": 10,
   "metadata": {
    "executionInfo": {
     "elapsed": 475,
     "status": "ok",
     "timestamp": 1706495469958,
     "user": {
      "displayName": "돌돌",
      "userId": "10669200165607963856"
     },
     "user_tz": -540
    },
    "id": "04JIkAQ8DdXa"
   },
   "outputs": [],
   "source": [
    "# 데이터 전처리\n",
    "X = data_result['Word']\n",
    "y = data_result['Category']"
   ]
  },
  {
   "cell_type": "code",
   "execution_count": 13,
   "metadata": {
    "executionInfo": {
     "elapsed": 1553,
     "status": "ok",
     "timestamp": 1706496935778,
     "user": {
      "displayName": "돌돌",
      "userId": "10669200165607963856"
     },
     "user_tz": -540
    },
    "id": "ZN7K7J8pD1Aq"
   },
   "outputs": [],
   "source": [
    "# X 데이터를 리스트의 리스트로 변환\n",
    "X_list_of_lists = [eval(word_list_str) for word_list_str in X]\n",
    "\n",
    "# Word2Vec 모델 학습\n",
    "model_w2v = Word2Vec(sentences=X_list_of_lists, vector_size=100, window=5, min_count=1, workers=4)"
   ]
  },
  {
   "cell_type": "code",
   "execution_count": 35,
   "metadata": {
    "colab": {
     "base_uri": "https://localhost:8080/"
    },
    "executionInfo": {
     "elapsed": 358,
     "status": "ok",
     "timestamp": 1706497747341,
     "user": {
      "displayName": "돌돌",
      "userId": "10669200165607963856"
     },
     "user_tz": -540
    },
    "id": "jPYtdRsNJSBI",
    "outputId": "5d336974-c2d0-4137-947e-32faa0872fc4"
   },
   "outputs": [
    {
     "name": "stdout",
     "output_type": "stream",
     "text": [
      "[-1.44278025e-02  5.40608466e-02  2.73500495e-02  9.16978286e-04\n",
      " -6.62033155e-04 -7.02596307e-02  5.45726856e-03  8.53111222e-02\n",
      " -2.15095785e-02 -2.13987213e-02  6.69696252e-04 -9.16326120e-02\n",
      " -1.82096846e-02  2.46093962e-02  3.62438187e-02 -3.73842269e-02\n",
      "  3.05881561e-03 -2.59262603e-02  2.20863689e-02 -8.17314759e-02\n",
      "  1.24195702e-02  7.75656081e-05  4.49704453e-02 -3.33127938e-03\n",
      " -3.06317490e-02  4.56055813e-03 -4.41287868e-02 -2.48627719e-02\n",
      " -1.75350867e-02  6.73066033e-03  3.71882096e-02  2.67968811e-02\n",
      "  4.29431256e-03 -1.47330957e-02  1.17404964e-02  3.35409492e-02\n",
      " -1.73971057e-02 -6.09729849e-02 -2.99631455e-03 -8.99604186e-02\n",
      " -8.91506393e-03 -6.81969225e-02 -1.85583513e-02  2.31060665e-02\n",
      "  2.51018424e-02 -2.48169135e-02 -2.73530148e-02  2.35459767e-02\n",
      "  1.21840676e-02  3.99275757e-02  2.01823991e-02 -4.83298674e-02\n",
      " -3.09446715e-02 -2.99753100e-02 -1.04420213e-02  3.07345465e-02\n",
      "  2.48102583e-02  2.16236189e-02 -3.06140613e-02  4.75143170e-05\n",
      " -3.22447121e-02  1.08252540e-02 -5.81159815e-02  4.65689674e-02\n",
      " -8.09748322e-02  5.13822921e-02  1.78072192e-02  2.90811863e-02\n",
      " -4.34078015e-02  6.41324297e-02 -4.51866388e-02 -2.07579159e-03\n",
      "  5.74077331e-02 -1.84572600e-02  3.61943021e-02  2.46274434e-02\n",
      " -8.53275508e-03 -2.58486494e-02 -3.25445794e-02  1.06989294e-02\n",
      " -4.38267551e-02 -3.40940873e-03  7.68751884e-03  4.67137285e-02\n",
      "  7.78822880e-03 -3.49123660e-03 -8.64216965e-03  4.51519489e-02\n",
      "  2.94446889e-02 -1.11821759e-03  4.32870798e-02 -1.18852565e-02\n",
      "  1.47984149e-02  1.62017997e-02  5.12702279e-02  3.26680169e-02\n",
      "  4.43727709e-02 -5.08002080e-02  1.02989413e-02  9.91192833e-03]\n"
     ]
    }
   ],
   "source": [
    "# 벡터 확인\n",
    "word_vector = model_w2v.wv['한파']\n",
    "print(word_vector)"
   ]
  },
  {
   "cell_type": "code",
   "execution_count": 41,
   "metadata": {
    "colab": {
     "base_uri": "https://localhost:8080/"
    },
    "executionInfo": {
     "elapsed": 332,
     "status": "ok",
     "timestamp": 1706498014045,
     "user": {
      "displayName": "돌돌",
      "userId": "10669200165607963856"
     },
     "user_tz": -540
    },
    "id": "Z-buY5tBDSU_",
    "outputId": "49c83dfd-52c6-4495-b177-9e954c8f6110"
   },
   "outputs": [
    {
     "name": "stdout",
     "output_type": "stream",
     "text": [
      "정확도: 0.24193548387096775\n"
     ]
    }
   ],
   "source": [
    "# Word2Vec을 사용하여 텍스트 데이터를 벡터화\n",
    "X_w2v = [model_w2v.wv[eval(words)] for words in X]\n",
    "\n",
    "# 데이터 분할\n",
    "X_train_w2v, X_test_w2v, y_train, y_test = train_test_split(X_w2v, y, test_size=0.2, random_state=42)\n",
    "\n",
    "# 각 문서의 Word2Vec 벡터들의 평균을 구하여 고정된 크기의 벡터로 변환\n",
    "X_train_w2v_mean = np.array([np.mean(doc, axis=0) for doc in X_train_w2v])\n",
    "X_test_w2v_mean = np.array([np.mean(doc, axis=0) for doc in X_test_w2v])\n",
    "\n",
    "# SVM 모델 학습\n",
    "svm_model_w2v = SVC(kernel='linear')\n",
    "svm_model_w2v.fit(X_train_w2v_mean, y_train)\n",
    "\n",
    "# 모델 평가\n",
    "y_pred_w2v = svm_model_w2v.predict(X_test_w2v_mean)\n",
    "accuracy_w2v = accuracy_score(y_test, y_pred_w2v)\n",
    "print(f\"정확도: {accuracy_w2v}\")"
   ]
  },
  {
   "cell_type": "markdown",
   "metadata": {
    "id": "IFuM-PVGKiqX"
   },
   "source": [
    "선형회귀"
   ]
  },
  {
   "cell_type": "code",
   "execution_count": 19,
   "metadata": {
    "executionInfo": {
     "elapsed": 327,
     "status": "ok",
     "timestamp": 1706497379241,
     "user": {
      "displayName": "돌돌",
      "userId": "10669200165607963856"
     },
     "user_tz": -540
    },
    "id": "L3p4b2JvKem-"
   },
   "outputs": [],
   "source": [
    "from sklearn.linear_model import LinearRegression"
   ]
  },
  {
   "cell_type": "code",
   "execution_count": 40,
   "metadata": {
    "colab": {
     "base_uri": "https://localhost:8080/"
    },
    "executionInfo": {
     "elapsed": 515,
     "status": "ok",
     "timestamp": 1706498010277,
     "user": {
      "displayName": "돌돌",
      "userId": "10669200165607963856"
     },
     "user_tz": -540
    },
    "id": "WH2IykjsKBad",
    "outputId": "ffebc865-6ccf-40a2-e546-5c30827412db"
   },
   "outputs": [
    {
     "name": "stdout",
     "output_type": "stream",
     "text": [
      "정확도: 0.4032258064516129\n"
     ]
    }
   ],
   "source": [
    "# 선형 회귀 모델 학습\n",
    "linear_model_w2v = LinearRegression()\n",
    "linear_model_w2v.fit(X_train_w2v_mean, y_train)\n",
    "\n",
    "# 모델 평가\n",
    "y_pred_w2v = linear_model_w2v.predict(X_test_w2v_mean)\n",
    "y_pred_w2v_rounded = np.round(y_pred_w2v)  # 예측값을 반올림하여 클래스로 변환\n",
    "accuracy_w2v = accuracy_score(y_test, y_pred_w2v_rounded)\n",
    "print(f\"정확도: {accuracy_w2v}\")"
   ]
  },
  {
   "cell_type": "markdown",
   "metadata": {
    "id": "x30qHkAUK_Qp"
   },
   "source": [
    "결정트리"
   ]
  },
  {
   "cell_type": "code",
   "execution_count": 21,
   "metadata": {
    "executionInfo": {
     "elapsed": 775,
     "status": "ok",
     "timestamp": 1706497459098,
     "user": {
      "displayName": "돌돌",
      "userId": "10669200165607963856"
     },
     "user_tz": -540
    },
    "id": "p7qZKvzbLCtT"
   },
   "outputs": [],
   "source": [
    "from sklearn.tree import DecisionTreeClassifier"
   ]
  },
  {
   "cell_type": "code",
   "execution_count": 39,
   "metadata": {
    "colab": {
     "base_uri": "https://localhost:8080/"
    },
    "executionInfo": {
     "elapsed": 331,
     "status": "ok",
     "timestamp": 1706498007271,
     "user": {
      "displayName": "돌돌",
      "userId": "10669200165607963856"
     },
     "user_tz": -540
    },
    "id": "ALvyeJy3LMRs",
    "outputId": "9196ede1-419a-477c-cec1-cc129703aa0c"
   },
   "outputs": [
    {
     "name": "stdout",
     "output_type": "stream",
     "text": [
      "정확도: 0.6129032258064516\n"
     ]
    }
   ],
   "source": [
    "# 결정 트리 모델 학습\n",
    "decision_tree_model_w2v = DecisionTreeClassifier()\n",
    "decision_tree_model_w2v.fit(X_train_w2v_mean, y_train)\n",
    "\n",
    "# 모델 평가\n",
    "y_pred_w2v = decision_tree_model_w2v.predict(X_test_w2v_mean)\n",
    "accuracy_w2v = accuracy_score(y_test, y_pred_w2v)\n",
    "print(f\"정확도: {accuracy_w2v}\")"
   ]
  },
  {
   "cell_type": "markdown",
   "metadata": {
    "id": "2PsyjJ0vLPpu"
   },
   "source": [
    "K-최소 근접"
   ]
  },
  {
   "cell_type": "code",
   "execution_count": 23,
   "metadata": {
    "executionInfo": {
     "elapsed": 355,
     "status": "ok",
     "timestamp": 1706497526894,
     "user": {
      "displayName": "돌돌",
      "userId": "10669200165607963856"
     },
     "user_tz": -540
    },
    "id": "vexsRKq3LRrV"
   },
   "outputs": [],
   "source": [
    "from sklearn.neighbors import KNeighborsClassifier"
   ]
  },
  {
   "cell_type": "code",
   "execution_count": 38,
   "metadata": {
    "colab": {
     "base_uri": "https://localhost:8080/"
    },
    "executionInfo": {
     "elapsed": 344,
     "status": "ok",
     "timestamp": 1706498004184,
     "user": {
      "displayName": "돌돌",
      "userId": "10669200165607963856"
     },
     "user_tz": -540
    },
    "id": "HjQen_GwLfp2",
    "outputId": "eb895381-0b04-48d4-b7ce-1aa0ba4b5c8c"
   },
   "outputs": [
    {
     "name": "stdout",
     "output_type": "stream",
     "text": [
      "정확도: 0.4032258064516129\n"
     ]
    }
   ],
   "source": [
    "# K-최근접 이웃 모델 학습\n",
    "knn_model_w2v = KNeighborsClassifier(n_neighbors=5)\n",
    "knn_model_w2v.fit(X_train_w2v_mean, y_train)\n",
    "\n",
    "# 모델 평가\n",
    "y_pred_w2v = knn_model_w2v.predict(X_test_w2v_mean)\n",
    "accuracy_w2v = accuracy_score(y_test, y_pred_w2v)\n",
    "print(f\"정확도: {accuracy_w2v}\")"
   ]
  }
 ],
 "metadata": {
  "colab": {
   "authorship_tag": "ABX9TyOyHhq/9NMutB1FjYcEEFuW",
   "provenance": []
  },
  "kernelspec": {
   "display_name": "Python 3",
   "language": "python",
   "name": "python3"
  },
  "language_info": {
   "codemirror_mode": {
    "name": "ipython",
    "version": 3
   },
   "file_extension": ".py",
   "mimetype": "text/x-python",
   "name": "python",
   "nbconvert_exporter": "python",
   "pygments_lexer": "ipython3",
   "version": "3.8.8"
  }
 },
 "nbformat": 4,
 "nbformat_minor": 1
}
