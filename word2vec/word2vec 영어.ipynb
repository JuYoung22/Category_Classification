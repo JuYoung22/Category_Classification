{
 "cells": [
  {
   "cell_type": "code",
   "execution_count": 284,
   "id": "05745958",
   "metadata": {},
   "outputs": [],
   "source": [
    "import torch\n",
    "import torch.nn as nn\n",
    "import torch.optim as optim\n",
    "\n",
    "import pandas as pd\n",
    "import numpy as np\n",
    "import matplotlib.pyplot as plt\n",
    "import seaborn as sns"
   ]
  },
  {
   "cell_type": "code",
   "execution_count": 336,
   "id": "87ed8747",
   "metadata": {},
   "outputs": [],
   "source": [
    "# 토콘화로 함수 정리 모카 자주쓰니까 나중에 이걸로 변경.\n",
    "from keras.preprocessing.text import Tokenizer\n",
    "from keras.preprocessing.sequence import pad_sequences\n",
    "\n",
    "# 문장 토큰화 및 ID 부여 함수\n",
    "def preprocess(text):\n",
    "    # 토큰화\n",
    "    tokenizer = Tokenizer()\n",
    "    tokenizer.fit_on_texts([text])\n",
    "    total_words = len(tokenizer.word_index) + 1\n",
    "    \n",
    "    word_to_id = tokenizer.word_index\n",
    "    id_to_word = {v: k for k, v in word_to_id.items()}\n",
    "    \n",
    "    # 단어 목록을 단어 ID 목록으로 변환\n",
    "    word_list = text.lower().split()  # 소문자로 변환 후 공백 기준으로 단어 분리\n",
    "    word_ids = [word_to_id[word] for word in word_list]\n",
    "\n",
    "    # 단어 ID 목록을 넘파이 배열로 변환\n",
    "    corpus = np.array(word_ids)\n",
    "    return corpus, word_to_id, id_to_word"
   ]
  },
  {
   "cell_type": "markdown",
   "id": "3703c09d",
   "metadata": {},
   "source": [
    "### CBOW 모델의 추론 처리\n",
    "맥락으로 타깃을 추측하는 용도의 신경망\n",
    "* 타깃(target): 중앙단어\n",
    "* 맥락:  주변 단어"
   ]
  },
  {
   "cell_type": "code",
   "execution_count": 338,
   "id": "6bdeb19a",
   "metadata": {},
   "outputs": [
    {
     "name": "stdout",
     "output_type": "stream",
     "text": [
      "[2 1 3 4 5 1 6]\n",
      "{'say': 1, 'you': 2, 'goodbye': 3, 'and': 4, 'i': 5, 'hello': 6}\n",
      "{1: 'say', 2: 'you', 3: 'goodbye', 4: 'and', 5: 'i', 6: 'hello'}\n"
     ]
    }
   ],
   "source": [
    "# 학습 데이터 셋 준비\n",
    "text = \"You say goodbye and I say hello\"\n",
    "corpus, word_to_id, id_to_word = preprocess(text)\n",
    "print(corpus)\n",
    "print(word_to_id)\n",
    "print(id_to_word)"
   ]
  },
  {
   "cell_type": "code",
   "execution_count": 339,
   "id": "e2d186ea",
   "metadata": {},
   "outputs": [],
   "source": [
    "# ID를 기준으로 맥락과 타깃 생성 함수 작성\n",
    "def create_contexts_target(corpus, window_size):\n",
    "    target = corpus[window_size:-window_size]\n",
    "    contexts = []\n",
    "    \n",
    "    for idx in range(window_size, len(corpus)-window_size):\n",
    "        cs=[]\n",
    "        for t in range(-window_size, window_size+1):\n",
    "            if t == 0:\n",
    "                continue\n",
    "            cs.append(corpus[idx + t])\n",
    "        contexts.append(cs)\n",
    "        \n",
    "    return np.array(contexts), np.array(target)"
   ]
  },
  {
   "cell_type": "code",
   "execution_count": 342,
   "id": "ce9f1fb6",
   "metadata": {
    "scrolled": true
   },
   "outputs": [
    {
     "name": "stdout",
     "output_type": "stream",
     "text": [
      "(5, 2)\n",
      "(5,)\n",
      "맥락의 크기 (원핫인코딩): (5, 2, 7)\n",
      "타깃의 크기 (원핫인코딩): (5, 7)\n"
     ]
    }
   ],
   "source": [
    "# 맥락 타깃 생성\n",
    "contexts, target = create_contexts_target(corpus,window_size=1)\n",
    "print(contexts.shape)\n",
    "print(target.shape)\n",
    "\n",
    "# 원핫인코딩\n",
    "total_words = len(corpus) # 토큰화에서 한 번 걸리지므로 유니크 필요 없음.\n",
    "\n",
    "# 맥락과 타깃을 원핫인코딩\n",
    "contexts_onehot = np.eye(total_words)[contexts]\n",
    "targets_onehot = np.eye(total_words)[target]\n",
    "\n",
    "# 원핫인코딩 결과의 크기 출력\n",
    "print(\"맥락의 크기 (원핫인코딩):\", contexts_onehot.shape)\n",
    "print(\"타깃의 크기 (원핫인코딩):\", targets_onehot.shape)"
   ]
  },
  {
   "cell_type": "code",
   "execution_count": 269,
   "id": "e698c173",
   "metadata": {
    "scrolled": false
   },
   "outputs": [
    {
     "name": "stdout",
     "output_type": "stream",
     "text": [
      "Epoch [10/100], Loss: 1.0724\n",
      "Epoch [20/100], Loss: 0.7258\n",
      "Epoch [30/100], Loss: 0.5756\n",
      "Epoch [40/100], Loss: 0.4931\n",
      "Epoch [50/100], Loss: 0.4413\n",
      "Epoch [60/100], Loss: 0.4059\n",
      "Epoch [70/100], Loss: 0.3803\n",
      "Epoch [80/100], Loss: 0.3610\n",
      "Epoch [90/100], Loss: 0.3460\n",
      "Epoch [100/100], Loss: 0.3340\n",
      "Predicted: 1, Actual: 1\n"
     ]
    },
    {
     "data": {
      "image/png": "[encoded data removed]",
      "text/plain": [
       "<Figure size 432x288 with 1 Axes>"
      ]
     },
     "metadata": {
      "needs_background": "light"
     },
     "output_type": "display_data"
    }
   ],
   "source": [
    "# 손실 기록 리스트\n",
    "loss_history = []\n",
    "\n",
    "\n",
    "# CBOW 모델 정의\n",
    "class CBOWModel(nn.Module):\n",
    "    def __init__(self, vocab_size, embedding_dim):\n",
    "        super(CBOWModel, self).__init__()\n",
    "        self.embeddings = nn.Embedding(vocab_size, embedding_dim)\n",
    "        self.linear = nn.Linear(embedding_dim, vocab_size)\n",
    "\n",
    "    def forward(self, context):\n",
    "        embedded = self.embeddings(context)\n",
    "        summed = torch.sum(embedded, dim=1)\n",
    "        output = self.linear(summed)\n",
    "        return output\n",
    "\n",
    "# Hyperparameters\n",
    "vocab_size = len(np.unique(corpus))\n",
    "embedding_dim = 50\n",
    "learning_rate = 0.01\n",
    "epochs = 100\n",
    "\n",
    "# 모델 초기화\n",
    "cbow_model = CBOWModel(vocab_size, embedding_dim)\n",
    "criterion = nn.CrossEntropyLoss()\n",
    "optimizer = optim.SGD(cbow_model.parameters(), lr=learning_rate)\n",
    "\n",
    "# 훈련\n",
    "for epoch in range(epochs):\n",
    "    inputs = torch.tensor(contexts, dtype=torch.long)\n",
    "    labels = torch.tensor(target, dtype=torch.long)\n",
    "\n",
    "    optimizer.zero_grad()\n",
    "    outputs = cbow_model(inputs)\n",
    "    loss = criterion(outputs, labels)\n",
    "    loss.backward()\n",
    "    optimizer.step()\n",
    "    \n",
    "    loss_history.append(loss.item())\n",
    "\n",
    "    if (epoch + 1) % 10 == 0:\n",
    "        print(f'Epoch [{epoch+1}/{epochs}], Loss: {loss.item():.4f}')\n",
    "\n",
    "# 예측\n",
    "with torch.no_grad():\n",
    "    test_context = torch.tensor(contexts[0], dtype=torch.long).unsqueeze(0)\n",
    "    predicted = cbow_model(test_context).argmax(dim=1).item()\n",
    "    print(f'Predicted: {predicted}, Actual: {target[0]}')\n",
    "\n",
    "# 손실 그래프 시각화\n",
    "plt.plot(loss_history)\n",
    "plt.title('Training Loss Over Epochs')\n",
    "plt.xlabel('Epochs')\n",
    "plt.ylabel('Loss')\n",
    "plt.show()"
   ]
  },
  {
   "cell_type": "code",
   "execution_count": 257,
   "id": "bedfd750",
   "metadata": {
    "scrolled": true
   },
   "outputs": [
    {
     "data": {
      "image/png": "[encoded data removed]",
      "text/plain": [
       "<Figure size 432x288 with 1 Axes>"
      ]
     },
     "metadata": {
      "needs_background": "light"
     },
     "output_type": "display_data"
    }
   ],
   "source": [
    "# 단어 임베딩 추출\n",
    "word_embeddings = cbow_model.embeddings.weight.data.numpy()\n",
    "\n",
    "# 시각화\n",
    "for i, word in enumerate(np.unique(corpus)):\n",
    "    plt.annotate(word, (word_embeddings[i, 0], word_embeddings[i, 1]))\n",
    "\n",
    "plt.scatter(word_embeddings[:, 0], word_embeddings[:, 1])\n",
    "plt.show()"
   ]
  },
  {
   "cell_type": "code",
   "execution_count": 270,
   "id": "05ac4e7d",
   "metadata": {},
   "outputs": [
    {
     "name": "stdout",
     "output_type": "stream",
     "text": [
      "Epoch [10/100], Loss: 1.0467\n",
      "Epoch [20/100], Loss: 0.9720\n",
      "Epoch [30/100], Loss: 0.9483\n",
      "Epoch [40/100], Loss: 0.9372\n",
      "Epoch [50/100], Loss: 0.9307\n",
      "Epoch [60/100], Loss: 0.9264\n",
      "Epoch [70/100], Loss: 0.9233\n",
      "Epoch [80/100], Loss: 0.9209\n",
      "Epoch [90/100], Loss: 0.9191\n",
      "Epoch [100/100], Loss: 0.9175\n",
      "Predicted: 4, Actual: 1\n"
     ]
    },
    {
     "data": {
      "image/png": "[encoded data removed]",
      "text/plain": [
       "<Figure size 432x288 with 1 Axes>"
      ]
     },
     "metadata": {
      "needs_background": "light"
     },
     "output_type": "display_data"
    }
   ],
   "source": [
    "# 손실 기록 리스트\n",
    "Skip_loss_history = []\n",
    "\n",
    "# Skip-gram 모델 정의\n",
    "class SkipGramModel(nn.Module):\n",
    "    def __init__(self, vocab_size, embedding_dim):\n",
    "        super(SkipGramModel, self).__init__()\n",
    "        self.embeddings = nn.Embedding(vocab_size, embedding_dim)\n",
    "        self.linear = nn.Linear(embedding_dim, vocab_size)\n",
    "\n",
    "    def forward(self, target):\n",
    "        embedded = self.embeddings(target)\n",
    "        output = self.linear(embedded)\n",
    "        return output\n",
    "\n",
    "# Hyperparameters\n",
    "vocab_size = len(np.unique(corpus))\n",
    "embedding_dim = 50\n",
    "learning_rate = 0.01\n",
    "epochs = 100\n",
    "\n",
    "# 모델 초기화\n",
    "skipgram_model = SkipGramModel(vocab_size, embedding_dim)\n",
    "criterion = nn.CrossEntropyLoss()\n",
    "optimizer = optim.SGD(skipgram_model.parameters(), lr=learning_rate)\n",
    "\n",
    "# 훈련\n",
    "for epoch in range(epochs):\n",
    "    for target, context in zip(targets, contexts):\n",
    "        for ctx in context:\n",
    "            target_tensor = torch.tensor([target], dtype=torch.long)\n",
    "            context_tensor = torch.tensor([ctx], dtype=torch.long)\n",
    "\n",
    "            optimizer.zero_grad()\n",
    "            outputs = skipgram_model(target_tensor)\n",
    "            loss = criterion(outputs, context_tensor)\n",
    "            loss.backward()\n",
    "            optimizer.step()\n",
    "            Skip_loss_history.append(loss.item())\n",
    "\n",
    "    if (epoch + 1) % 10 == 0:\n",
    "        print(f'Epoch [{epoch+1}/{epochs}], Loss: {loss.item():.4f}')\n",
    "\n",
    "# 예측\n",
    "with torch.no_grad():\n",
    "    test_target = torch.tensor([targets[-1]], dtype=torch.long)  # 마지막 target을 사용\n",
    "    predicted = skipgram_model(test_target).argmax(dim=1).item()\n",
    "    print(f'Predicted: {predicted}, Actual: {contexts[-1][0]}')\n",
    "    \n",
    "# 손실 그래프 시각화\n",
    "plt.plot(Skip_loss_history)\n",
    "plt.title('Training Loss Over Epochs')\n",
    "plt.xlabel('Epochs')\n",
    "plt.ylabel('Loss')\n",
    "plt.show()"
   ]
  },
  {
   "cell_type": "code",
   "execution_count": null,
   "id": "b47aa719",
   "metadata": {},
   "outputs": [],
   "source": []
  }
 ],
 "metadata": {
  "kernelspec": {
   "display_name": "Python 3",
   "language": "python",
   "name": "python3"
  },
  "language_info": {
   "codemirror_mode": {
    "name": "ipython",
    "version": 3
   },
   "file_extension": ".py",
   "mimetype": "text/x-python",
   "name": "python",
   "nbconvert_exporter": "python",
   "pygments_lexer": "ipython3",
   "version": "3.8.8"
  }
 },
 "nbformat": 4,
 "nbformat_minor": 5
}
